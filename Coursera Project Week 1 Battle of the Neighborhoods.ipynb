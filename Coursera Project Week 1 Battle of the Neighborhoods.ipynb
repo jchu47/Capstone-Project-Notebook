{
 "cells": [
  {
   "cell_type": "markdown",
   "metadata": {},
   "source": [
    "# Justin Chu \n",
    "## Coursera Capstone Project: The Battle of The Neighborhoods Week 1"
   ]
  },
  {
   "cell_type": "markdown",
   "metadata": {},
   "source": [
    "### A description of the problem and a discussion of the background."
   ]
  },
  {
   "cell_type": "markdown",
   "metadata": {},
   "source": [
    "A few colleagues and myself are looking to open a Crispy Creme donut shop in Suffolk County, New York.  If you live on Long Island you can relate to the continually worsening problem of a lack of donuts.  Dunkin' Donuts can only satiate the problem of having to drive the New York City for a Crispy Creme for so long before the masses crave for something more delightful. \n",
    "\n",
    "\n",
    "\n"
   ]
  },
  {
   "cell_type": "markdown",
   "metadata": {},
   "source": [
    "\n",
    "\n",
    "\n",
    "### A description of the data and how it will be used to solve the problem."
   ]
  },
  {
   "cell_type": "markdown",
   "metadata": {},
   "source": [
    "I will be using the Foursquare API to analyze the neighborhoods of Suffolk County to locate an area with the lowest number of venues in order to place our Crispy Creme in an area of high necessity."
   ]
  }
 ],
 "metadata": {
  "kernelspec": {
   "display_name": "Python 3",
   "language": "python",
   "name": "python3"
  },
  "language_info": {
   "codemirror_mode": {
    "name": "ipython",
    "version": 3
   },
   "file_extension": ".py",
   "mimetype": "text/x-python",
   "name": "python",
   "nbconvert_exporter": "python",
   "pygments_lexer": "ipython3",
   "version": "3.8.5"
  }
 },
 "nbformat": 4,
 "nbformat_minor": 4
}
